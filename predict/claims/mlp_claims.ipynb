{
  "cells": [
    {
      "cell_type": "markdown",
      "metadata": {
        "id": "view-in-github",
        "colab_type": "text"
      },
      "source": [
        "<a href=\"https://colab.research.google.com/github/zahramoradi1998m/liquidity-risk-prediction-deep-learning/blob/main/mlp_claims.ipynb\" target=\"_parent\"><img src=\"https://colab.research.google.com/assets/colab-badge.svg\" alt=\"Open In Colab\"/></a>"
      ]
    },
    {
      "cell_type": "code",
      "source": [
        "import numpy\n",
        "import matplotlib.pyplot as plt\n",
        "import pandas as pd\n",
        "import math\n",
        "from keras.models import Sequential\n",
        "from keras.layers import Dense,Input\n",
        "from keras.layers import LSTM,Dropout,Flatten,BatchNormalization,SimpleRNN ,Conv1D,MaxPooling1D,GlobalAveragePooling1D,GlobalMaxPooling1D\n",
        "from sklearn.preprocessing import MinMaxScaler\n",
        "from sklearn.metrics import mean_squared_error,r2_score,mean_absolute_error\n",
        "from keras.callbacks import ModelCheckpoint\n",
        "import pandas as pd\n",
        "import numpy as np\n",
        "import torch\n",
        "from sklearn import preprocessing\n",
        "from sklearn.preprocessing import MinMaxScaler,StandardScaler\n",
        "from keras.models import load_model\n",
        "from sklearn.linear_model import LinearRegression\n",
        "from sklearn.model_selection import train_test_split\n",
        "from keras import backend as K\n",
        "from tensorflow import keras\n",
        "from tensorflow.python.framework import ops\n",
        "!pip install scikit-optimize\n",
        "from skopt.space import Real, Categorical, Integer\n",
        "from skopt.utils import use_named_args\n",
        "from skopt import gp_minimize\n",
        "from nbconvert.preprocessors import ExecutePreprocessor\n",
        "import nbformat\n",
        "from keras.utils import plot_model\n",
        "\n",
        "\n"
      ],
      "metadata": {
        "id": "VDJSBuWimW04",
        "colab": {
          "base_uri": "https://localhost:8080/"
        },
        "outputId": "ec13ce08-c33d-4ac1-c7fe-efe5003dac90"
      },
      "execution_count": null,
      "outputs": [
        {
          "output_type": "stream",
          "name": "stdout",
          "text": [
            "Requirement already satisfied: scikit-optimize in /usr/local/lib/python3.10/dist-packages (0.10.2)\n",
            "Requirement already satisfied: joblib>=0.11 in /usr/local/lib/python3.10/dist-packages (from scikit-optimize) (1.4.2)\n",
            "Requirement already satisfied: pyaml>=16.9 in /usr/local/lib/python3.10/dist-packages (from scikit-optimize) (24.4.0)\n",
            "Requirement already satisfied: numpy>=1.20.3 in /usr/local/lib/python3.10/dist-packages (from scikit-optimize) (1.25.2)\n",
            "Requirement already satisfied: scipy>=1.1.0 in /usr/local/lib/python3.10/dist-packages (from scikit-optimize) (1.11.4)\n",
            "Requirement already satisfied: scikit-learn>=1.0.0 in /usr/local/lib/python3.10/dist-packages (from scikit-optimize) (1.2.2)\n",
            "Requirement already satisfied: packaging>=21.3 in /usr/local/lib/python3.10/dist-packages (from scikit-optimize) (24.0)\n",
            "Requirement already satisfied: PyYAML in /usr/local/lib/python3.10/dist-packages (from pyaml>=16.9->scikit-optimize) (6.0.1)\n",
            "Requirement already satisfied: threadpoolctl>=2.0.0 in /usr/local/lib/python3.10/dist-packages (from scikit-learn>=1.0.0->scikit-optimize) (3.5.0)\n"
          ]
        }
      ]
    },
    {
      "cell_type": "code",
      "source": [
        "# run preprocess_claims_data.ipynb\n",
        "\n",
        "# Define paths\n",
        "notebook_path = '/content/drive/MyDrive/Colab Notebooks/mar/liquidity-risk-prediction-deep-learning/preprocessing/preprocess_Claims_data.ipynb'\n",
        "output_path = notebook_path  # Save to the same path\n",
        "\n",
        "# Load the notebook\n",
        "with open(notebook_path, 'r', encoding='utf-8') as f:\n",
        "    notebook = nbformat.read(f, as_version=4)\n",
        "\n",
        "# Create an instance of ExecutePreprocessor\n",
        "executor = ExecutePreprocessor(timeout=-1, kernel_name='python3')\n",
        "\n",
        "# Execute the notebook\n",
        "executor.preprocess(notebook, {'metadata': {'path': '/content/drive/MyDrive/Colab Notebooks/mar/liquidity-risk-prediction-deep-learning/preprocessing/'}})\n",
        "\n",
        "# Save the executed notebook\n",
        "with open(output_path, 'w', encoding='utf-8') as f:\n",
        "    nbformat.write(notebook, f)\n"
      ],
      "metadata": {
        "id": "96O-Oj3f35eF"
      },
      "execution_count": null,
      "outputs": []
    },
    {
      "cell_type": "code",
      "source": [
        "# load data from preprocess_claims_data.ipynb\n",
        "file_path = '/content/drive/MyDrive/Colab Notebooks/mar/liquidity-risk-prediction-deep-learning/dataset/Preprocessed Claims Data.pkl'\n",
        "with open(file_path, 'rb') as f:\n",
        "    (testX_Claims, testY_Claims, trainX_Claims, trainY_Claims,\n",
        "     validX_Claims, validY_Claims, trainX1_Claims, validX1_Claims) = pickle.load(f)"
      ],
      "metadata": {
        "id": "95-JiGjh4Py5"
      },
      "execution_count": null,
      "outputs": []
    },
    {
      "cell_type": "code",
      "execution_count": null,
      "metadata": {
        "id": "eDPVVBs9fj8u"
      },
      "outputs": [],
      "source": [
        "# fix random seed for reproducibility\n",
        "seed = 7\n",
        "np.random.seed(seed)"
      ]
    },
    {
      "cell_type": "markdown",
      "source": [
        "tune hyperparameter via Bayesian algorithm"
      ],
      "metadata": {
        "id": "5dwDZWwIim6M"
      }
    },
    {
      "cell_type": "code",
      "source": [
        "def create_model1(n1,n2,active1,active2):\n",
        "  model=Sequential()\n",
        "  model.add(Input(shape=(trainX.shape[1],)))\n",
        "  model.add(Dense(n1, kernel_initializer= 'normal' , activation=active1))\n",
        "  model.add(Dense(n2, kernel_initializer= 'normal' , activation=active2))\n",
        "  model.add(Dense(1, kernel_initializer= 'normal' ))\n",
        "  return model\n",
        "\n",
        "dimensions = [#Real(low=0.199, high=0.2, name='dropout')]\n",
        "              Integer(low=3, high=40, name='n1'),\n",
        "              Integer(low=3, high=40, name='n2'),\n",
        "              Categorical(['relu', 'sigmoid', 'linear'], name='active1'),\n",
        "              Categorical(['relu', 'sigmoid', 'linear'], name='active2')\n",
        "              ]\n",
        "\n",
        "@use_named_args(dimensions=dimensions)\n",
        "def fitness(n1,n2,active1,active2):\n",
        "  model=create_model1(n1,n2,active1,active2)\n",
        "  model.compile(loss= 'mean_squared_error' , optimizer= 'adam' )\n",
        "  filepath=\"weights.best.hdf5\"\n",
        "  checkpoint = ModelCheckpoint(filepath, monitor= 'val_accuracy', verbose=0, mode= 'max' )\n",
        "  callbacks_list = [checkpoint]\n",
        "  model.fit(trainX, trainY, validation_data=(validX,validY), epochs=100, batch_size=10, callbacks=callbacks_list, verbose=2)\n",
        "  trainPredicted=model.predict(trainX)\n",
        "  trainMSE = mean_squared_error(trainY, trainPredicted)\n",
        "\n",
        "  del model\n",
        "  K.clear_session()\n",
        "  ops.reset_default_graph()\n",
        "  return trainMSE\n",
        "\n",
        "gp_result = gp_minimize(func=fitness,\n",
        "                            dimensions=dimensions)\n",
        "\n",
        "gp_resultdef create_model1(n1,n2,active1,active2):\n",
        "  model=Sequential()\n",
        "  model.add(Input(shape=(trainX.shape[1],)))\n",
        "  model.add(Dense(n1, kernel_initializer= 'normal' , activation=active1))\n",
        "  model.add(Dense(n2, kernel_initializer= 'normal' , activation=active2))\n",
        "  model.add(Dense(1, kernel_initializer= 'normal' ))\n",
        "  return model\n",
        "\n",
        "dimensions = [#Real(low=0.199, high=0.2, name='dropout')]\n",
        "              Integer(low=3, high=40, name='n1'),\n",
        "              Integer(low=3, high=40, name='n2'),\n",
        "              Categorical(['relu', 'sigmoid', 'linear'], name='active1'),\n",
        "              Categorical(['relu', 'sigmoid', 'linear'], name='active2')\n",
        "              ]\n",
        "\n",
        "@use_named_args(dimensions=dimensions)\n",
        "def fitness(n1,n2,active1,active2):\n",
        "  model=create_model1(n1,n2,active1,active2)\n",
        "  model.compile(loss= 'mean_squared_error' , optimizer= 'adam' )\n",
        "  filepath=\"weights.best.hdf5\"\n",
        "  checkpoint = ModelCheckpoint(filepath, monitor= 'val_accuracy', verbose=0, mode= 'max' )\n",
        "  callbacks_list = [checkpoint]\n",
        "  model.fit(trainX, trainY, validation_data=(validX,validY), epochs=100, batch_size=10, callbacks=callbacks_list, verbose=2)\n",
        "  trainPredicted=model.predict(trainX)\n",
        "  trainMSE = mean_squared_error(trainY, trainPredicted)\n",
        "\n",
        "  del model\n",
        "  K.clear_session()\n",
        "  ops.reset_default_graph()\n",
        "  return trainMSE\n",
        "\n",
        "gp_result = gp_minimize(func=fitness,\n",
        "                            dimensions=dimensions)\n",
        "\n",
        "gp_result"
      ],
      "metadata": {
        "id": "jTa6rnqPVtT_"
      },
      "execution_count": null,
      "outputs": []
    },
    {
      "cell_type": "code",
      "execution_count": null,
      "metadata": {
        "id": "2cLn0C6Qgr87",
        "colab": {
          "base_uri": "https://localhost:8080/"
        },
        "outputId": "b12aca2d-eb99-42a8-8872-7cff4fbf2d64"
      },
      "outputs": [
        {
          "output_type": "stream",
          "name": "stdout",
          "text": [
            "Epoch 1/100\n",
            "29/29 - 1s - loss: 0.0152 - val_loss: 0.0197 - 1s/epoch - 35ms/step\n",
            "Epoch 2/100\n",
            "29/29 - 0s - loss: 0.0137 - val_loss: 0.0198 - 128ms/epoch - 4ms/step\n",
            "Epoch 3/100\n"
          ]
        },
        {
          "output_type": "stream",
          "name": "stderr",
          "text": [
            "/usr/local/lib/python3.10/dist-packages/keras/src/engine/training.py:3103: UserWarning: You are saving your model as an HDF5 file via `model.save()`. This file format is considered legacy. We recommend using instead the native Keras format, e.g. `model.save('my_model.keras')`.\n",
            "  saving_api.save_model(\n"
          ]
        },
        {
          "output_type": "stream",
          "name": "stdout",
          "text": [
            "29/29 - 0s - loss: 0.0137 - val_loss: 0.0197 - 109ms/epoch - 4ms/step\n",
            "Epoch 4/100\n",
            "29/29 - 0s - loss: 0.0136 - val_loss: 0.0197 - 102ms/epoch - 4ms/step\n",
            "Epoch 5/100\n",
            "29/29 - 0s - loss: 0.0135 - val_loss: 0.0198 - 142ms/epoch - 5ms/step\n",
            "Epoch 6/100\n",
            "29/29 - 0s - loss: 0.0134 - val_loss: 0.0196 - 166ms/epoch - 6ms/step\n",
            "Epoch 7/100\n",
            "29/29 - 0s - loss: 0.0131 - val_loss: 0.0198 - 182ms/epoch - 6ms/step\n",
            "Epoch 8/100\n",
            "29/29 - 0s - loss: 0.0130 - val_loss: 0.0201 - 152ms/epoch - 5ms/step\n",
            "Epoch 9/100\n",
            "29/29 - 0s - loss: 0.0128 - val_loss: 0.0198 - 145ms/epoch - 5ms/step\n",
            "Epoch 10/100\n",
            "29/29 - 0s - loss: 0.0126 - val_loss: 0.0204 - 170ms/epoch - 6ms/step\n",
            "Epoch 11/100\n",
            "29/29 - 0s - loss: 0.0126 - val_loss: 0.0202 - 173ms/epoch - 6ms/step\n",
            "Epoch 12/100\n",
            "29/29 - 0s - loss: 0.0126 - val_loss: 0.0207 - 170ms/epoch - 6ms/step\n",
            "Epoch 13/100\n",
            "29/29 - 0s - loss: 0.0125 - val_loss: 0.0207 - 169ms/epoch - 6ms/step\n",
            "Epoch 14/100\n",
            "29/29 - 0s - loss: 0.0123 - val_loss: 0.0207 - 190ms/epoch - 7ms/step\n",
            "Epoch 15/100\n",
            "29/29 - 0s - loss: 0.0121 - val_loss: 0.0208 - 188ms/epoch - 6ms/step\n",
            "Epoch 16/100\n",
            "29/29 - 0s - loss: 0.0121 - val_loss: 0.0211 - 137ms/epoch - 5ms/step\n",
            "Epoch 17/100\n",
            "29/29 - 0s - loss: 0.0120 - val_loss: 0.0213 - 132ms/epoch - 5ms/step\n",
            "Epoch 18/100\n",
            "29/29 - 0s - loss: 0.0118 - val_loss: 0.0214 - 155ms/epoch - 5ms/step\n",
            "Epoch 19/100\n",
            "29/29 - 0s - loss: 0.0116 - val_loss: 0.0216 - 173ms/epoch - 6ms/step\n",
            "Epoch 20/100\n",
            "29/29 - 0s - loss: 0.0117 - val_loss: 0.0212 - 167ms/epoch - 6ms/step\n",
            "Epoch 21/100\n",
            "29/29 - 0s - loss: 0.0114 - val_loss: 0.0218 - 189ms/epoch - 7ms/step\n",
            "Epoch 22/100\n",
            "29/29 - 0s - loss: 0.0112 - val_loss: 0.0220 - 176ms/epoch - 6ms/step\n",
            "Epoch 23/100\n",
            "29/29 - 0s - loss: 0.0111 - val_loss: 0.0216 - 172ms/epoch - 6ms/step\n",
            "Epoch 24/100\n",
            "29/29 - 0s - loss: 0.0110 - val_loss: 0.0222 - 173ms/epoch - 6ms/step\n",
            "Epoch 25/100\n",
            "29/29 - 0s - loss: 0.0107 - val_loss: 0.0220 - 167ms/epoch - 6ms/step\n",
            "Epoch 26/100\n",
            "29/29 - 0s - loss: 0.0107 - val_loss: 0.0214 - 168ms/epoch - 6ms/step\n",
            "Epoch 27/100\n",
            "29/29 - 0s - loss: 0.0103 - val_loss: 0.0216 - 176ms/epoch - 6ms/step\n",
            "Epoch 28/100\n",
            "29/29 - 0s - loss: 0.0102 - val_loss: 0.0218 - 146ms/epoch - 5ms/step\n",
            "Epoch 29/100\n",
            "29/29 - 0s - loss: 0.0098 - val_loss: 0.0216 - 174ms/epoch - 6ms/step\n",
            "Epoch 30/100\n",
            "29/29 - 0s - loss: 0.0097 - val_loss: 0.0218 - 152ms/epoch - 5ms/step\n",
            "Epoch 31/100\n",
            "29/29 - 0s - loss: 0.0095 - val_loss: 0.0218 - 100ms/epoch - 3ms/step\n",
            "Epoch 32/100\n",
            "29/29 - 0s - loss: 0.0093 - val_loss: 0.0227 - 98ms/epoch - 3ms/step\n",
            "Epoch 33/100\n",
            "29/29 - 0s - loss: 0.0093 - val_loss: 0.0225 - 123ms/epoch - 4ms/step\n",
            "Epoch 34/100\n",
            "29/29 - 0s - loss: 0.0091 - val_loss: 0.0225 - 106ms/epoch - 4ms/step\n",
            "Epoch 35/100\n",
            "29/29 - 0s - loss: 0.0091 - val_loss: 0.0226 - 113ms/epoch - 4ms/step\n",
            "Epoch 36/100\n",
            "29/29 - 0s - loss: 0.0087 - val_loss: 0.0233 - 112ms/epoch - 4ms/step\n",
            "Epoch 37/100\n",
            "29/29 - 0s - loss: 0.0086 - val_loss: 0.0228 - 113ms/epoch - 4ms/step\n",
            "Epoch 38/100\n",
            "29/29 - 0s - loss: 0.0086 - val_loss: 0.0231 - 100ms/epoch - 3ms/step\n",
            "Epoch 39/100\n",
            "29/29 - 0s - loss: 0.0084 - val_loss: 0.0237 - 102ms/epoch - 4ms/step\n",
            "Epoch 40/100\n",
            "29/29 - 0s - loss: 0.0081 - val_loss: 0.0239 - 117ms/epoch - 4ms/step\n",
            "Epoch 41/100\n",
            "29/29 - 0s - loss: 0.0079 - val_loss: 0.0238 - 97ms/epoch - 3ms/step\n",
            "Epoch 42/100\n",
            "29/29 - 0s - loss: 0.0078 - val_loss: 0.0237 - 128ms/epoch - 4ms/step\n",
            "Epoch 43/100\n",
            "29/29 - 0s - loss: 0.0077 - val_loss: 0.0240 - 111ms/epoch - 4ms/step\n",
            "Epoch 44/100\n",
            "29/29 - 0s - loss: 0.0074 - val_loss: 0.0238 - 118ms/epoch - 4ms/step\n",
            "Epoch 45/100\n",
            "29/29 - 0s - loss: 0.0075 - val_loss: 0.0243 - 100ms/epoch - 3ms/step\n",
            "Epoch 46/100\n",
            "29/29 - 0s - loss: 0.0073 - val_loss: 0.0249 - 101ms/epoch - 3ms/step\n",
            "Epoch 47/100\n",
            "29/29 - 0s - loss: 0.0075 - val_loss: 0.0250 - 116ms/epoch - 4ms/step\n",
            "Epoch 48/100\n",
            "29/29 - 0s - loss: 0.0070 - val_loss: 0.0247 - 109ms/epoch - 4ms/step\n",
            "Epoch 49/100\n",
            "29/29 - 0s - loss: 0.0071 - val_loss: 0.0222 - 93ms/epoch - 3ms/step\n",
            "Epoch 50/100\n",
            "29/29 - 0s - loss: 0.0067 - val_loss: 0.0249 - 118ms/epoch - 4ms/step\n",
            "Epoch 51/100\n",
            "29/29 - 0s - loss: 0.0066 - val_loss: 0.0244 - 106ms/epoch - 4ms/step\n",
            "Epoch 52/100\n",
            "29/29 - 0s - loss: 0.0065 - val_loss: 0.0252 - 114ms/epoch - 4ms/step\n",
            "Epoch 53/100\n",
            "29/29 - 0s - loss: 0.0064 - val_loss: 0.0241 - 115ms/epoch - 4ms/step\n",
            "Epoch 54/100\n",
            "29/29 - 0s - loss: 0.0064 - val_loss: 0.0248 - 102ms/epoch - 4ms/step\n",
            "Epoch 55/100\n",
            "29/29 - 0s - loss: 0.0064 - val_loss: 0.0238 - 110ms/epoch - 4ms/step\n",
            "Epoch 56/100\n",
            "29/29 - 0s - loss: 0.0066 - val_loss: 0.0254 - 99ms/epoch - 3ms/step\n",
            "Epoch 57/100\n",
            "29/29 - 0s - loss: 0.0062 - val_loss: 0.0232 - 97ms/epoch - 3ms/step\n",
            "Epoch 58/100\n",
            "29/29 - 0s - loss: 0.0062 - val_loss: 0.0254 - 110ms/epoch - 4ms/step\n",
            "Epoch 59/100\n",
            "29/29 - 0s - loss: 0.0062 - val_loss: 0.0247 - 116ms/epoch - 4ms/step\n",
            "Epoch 60/100\n",
            "29/29 - 0s - loss: 0.0060 - val_loss: 0.0251 - 119ms/epoch - 4ms/step\n",
            "Epoch 61/100\n",
            "29/29 - 0s - loss: 0.0063 - val_loss: 0.0231 - 115ms/epoch - 4ms/step\n",
            "Epoch 62/100\n",
            "29/29 - 0s - loss: 0.0061 - val_loss: 0.0255 - 109ms/epoch - 4ms/step\n",
            "Epoch 63/100\n",
            "29/29 - 0s - loss: 0.0060 - val_loss: 0.0252 - 94ms/epoch - 3ms/step\n",
            "Epoch 64/100\n",
            "29/29 - 0s - loss: 0.0057 - val_loss: 0.0250 - 112ms/epoch - 4ms/step\n",
            "Epoch 65/100\n",
            "29/29 - 0s - loss: 0.0058 - val_loss: 0.0240 - 115ms/epoch - 4ms/step\n",
            "Epoch 66/100\n",
            "29/29 - 0s - loss: 0.0059 - val_loss: 0.0262 - 110ms/epoch - 4ms/step\n",
            "Epoch 67/100\n",
            "29/29 - 0s - loss: 0.0056 - val_loss: 0.0224 - 140ms/epoch - 5ms/step\n",
            "Epoch 68/100\n",
            "29/29 - 0s - loss: 0.0060 - val_loss: 0.0243 - 113ms/epoch - 4ms/step\n",
            "Epoch 69/100\n",
            "29/29 - 0s - loss: 0.0056 - val_loss: 0.0258 - 127ms/epoch - 4ms/step\n",
            "Epoch 70/100\n",
            "29/29 - 0s - loss: 0.0055 - val_loss: 0.0251 - 112ms/epoch - 4ms/step\n",
            "Epoch 71/100\n",
            "29/29 - 0s - loss: 0.0058 - val_loss: 0.0243 - 110ms/epoch - 4ms/step\n",
            "Epoch 72/100\n",
            "29/29 - 0s - loss: 0.0056 - val_loss: 0.0230 - 95ms/epoch - 3ms/step\n",
            "Epoch 73/100\n",
            "29/29 - 0s - loss: 0.0055 - val_loss: 0.0238 - 112ms/epoch - 4ms/step\n",
            "Epoch 74/100\n",
            "29/29 - 0s - loss: 0.0055 - val_loss: 0.0223 - 99ms/epoch - 3ms/step\n",
            "Epoch 75/100\n",
            "29/29 - 0s - loss: 0.0056 - val_loss: 0.0235 - 119ms/epoch - 4ms/step\n",
            "Epoch 76/100\n",
            "29/29 - 0s - loss: 0.0054 - val_loss: 0.0235 - 118ms/epoch - 4ms/step\n",
            "Epoch 77/100\n",
            "29/29 - 0s - loss: 0.0054 - val_loss: 0.0241 - 105ms/epoch - 4ms/step\n",
            "Epoch 78/100\n",
            "29/29 - 0s - loss: 0.0053 - val_loss: 0.0228 - 115ms/epoch - 4ms/step\n",
            "Epoch 79/100\n",
            "29/29 - 0s - loss: 0.0054 - val_loss: 0.0231 - 125ms/epoch - 4ms/step\n",
            "Epoch 80/100\n",
            "29/29 - 0s - loss: 0.0054 - val_loss: 0.0234 - 123ms/epoch - 4ms/step\n",
            "Epoch 81/100\n",
            "29/29 - 0s - loss: 0.0054 - val_loss: 0.0230 - 121ms/epoch - 4ms/step\n",
            "Epoch 82/100\n",
            "29/29 - 0s - loss: 0.0054 - val_loss: 0.0233 - 109ms/epoch - 4ms/step\n",
            "Epoch 83/100\n",
            "29/29 - 0s - loss: 0.0053 - val_loss: 0.0229 - 124ms/epoch - 4ms/step\n",
            "Epoch 84/100\n",
            "29/29 - 0s - loss: 0.0052 - val_loss: 0.0228 - 105ms/epoch - 4ms/step\n",
            "Epoch 85/100\n",
            "29/29 - 0s - loss: 0.0052 - val_loss: 0.0233 - 121ms/epoch - 4ms/step\n",
            "Epoch 86/100\n",
            "29/29 - 0s - loss: 0.0052 - val_loss: 0.0217 - 129ms/epoch - 4ms/step\n",
            "Epoch 87/100\n",
            "29/29 - 0s - loss: 0.0053 - val_loss: 0.0243 - 112ms/epoch - 4ms/step\n",
            "Epoch 88/100\n",
            "29/29 - 0s - loss: 0.0054 - val_loss: 0.0220 - 103ms/epoch - 4ms/step\n",
            "Epoch 89/100\n",
            "29/29 - 0s - loss: 0.0052 - val_loss: 0.0238 - 103ms/epoch - 4ms/step\n",
            "Epoch 90/100\n",
            "29/29 - 0s - loss: 0.0052 - val_loss: 0.0223 - 103ms/epoch - 4ms/step\n",
            "Epoch 91/100\n",
            "29/29 - 0s - loss: 0.0052 - val_loss: 0.0224 - 98ms/epoch - 3ms/step\n",
            "Epoch 92/100\n",
            "29/29 - 0s - loss: 0.0053 - val_loss: 0.0222 - 106ms/epoch - 4ms/step\n",
            "Epoch 93/100\n",
            "29/29 - 0s - loss: 0.0052 - val_loss: 0.0220 - 113ms/epoch - 4ms/step\n",
            "Epoch 94/100\n",
            "29/29 - 0s - loss: 0.0052 - val_loss: 0.0226 - 123ms/epoch - 4ms/step\n",
            "Epoch 95/100\n",
            "29/29 - 0s - loss: 0.0051 - val_loss: 0.0220 - 113ms/epoch - 4ms/step\n",
            "Epoch 96/100\n",
            "29/29 - 0s - loss: 0.0052 - val_loss: 0.0217 - 110ms/epoch - 4ms/step\n",
            "Epoch 97/100\n",
            "29/29 - 0s - loss: 0.0052 - val_loss: 0.0218 - 99ms/epoch - 3ms/step\n",
            "Epoch 98/100\n",
            "29/29 - 0s - loss: 0.0051 - val_loss: 0.0222 - 100ms/epoch - 3ms/step\n",
            "Epoch 99/100\n",
            "29/29 - 0s - loss: 0.0051 - val_loss: 0.0217 - 115ms/epoch - 4ms/step\n",
            "Epoch 100/100\n",
            "29/29 - 0s - loss: 0.0051 - val_loss: 0.0222 - 115ms/epoch - 4ms/step\n"
          ]
        },
        {
          "output_type": "execute_result",
          "data": {
            "text/plain": [
              "<keras.src.callbacks.History at 0x7fa76f8ebc10>"
            ]
          },
          "metadata": {},
          "execution_count": 114
        }
      ],
      "source": [
        "\n",
        "import numpy as np\n",
        "import tensorflow as tf\n",
        "import random\n",
        "\n",
        "# Set seed for reproducibility\n",
        "seed = 42\n",
        "np.random.seed(seed)\n",
        "tf.random.set_seed(seed)\n",
        "random.seed(seed)\n",
        "\n",
        "MLP_Claims_model=Sequential()\n",
        "MLP_Claims_model.add(Input(shape=(trainX_Claims.shape[1],)))\n",
        "MLP_Claims_model.add(Dense(35, kernel_initializer= 'normal' , activation='tanh'))\n",
        "MLP_Claims_model.add(Dense(12, kernel_initializer= 'normal' , activation='relu'))\n",
        "MLP_Claims_model.add(Dense(1, kernel_initializer= 'normal' ))\n",
        "\n",
        "\n",
        "MLP_Claims_model.compile(loss= 'mean_squared_error' , optimizer= 'adam' )\n",
        "filepath=\"weights.best.hdf5\"\n",
        "checkpoint = ModelCheckpoint(filepath, monitor= 'val_accuracy', verbose=0, mode= 'max' )\n",
        "callbacks_list = [checkpoint]\n",
        "MLP_Claims_model.fit(trainX_Claims, trainY_Claims, validation_data=(validX_Claims,validY_Claims), epochs=100, batch_size=10, callbacks=callbacks_list, verbose=2)\n"
      ]
    },
    {
      "cell_type": "code",
      "execution_count": null,
      "metadata": {
        "id": "TiZdW90E1iQJ",
        "colab": {
          "base_uri": "https://localhost:8080/",
          "height": 422
        },
        "outputId": "4db8274b-ec92-45ae-e47b-ae021ea3d287"
      },
      "outputs": [
        {
          "output_type": "execute_result",
          "data": {
            "image/png": "[encoded data removed]",
            "text/plain": [
              "<IPython.core.display.Image object>"
            ]
          },
          "metadata": {},
          "execution_count": 117
        }
      ],
      "source": [
        "plot_model(MLP_Claims_model, to_file='model.png', show_shapes=True, show_layer_names=True)"
      ]
    },
    {
      "cell_type": "code",
      "execution_count": null,
      "metadata": {
        "id": "O8JVqh-orVFV",
        "colab": {
          "base_uri": "https://localhost:8080/"
        },
        "outputId": "fd5d59f6-267a-42d8-989e-cda6e378b103"
      },
      "outputs": [
        {
          "output_type": "stream",
          "name": "stdout",
          "text": [
            "9/9 [==============================] - 0s 3ms/step\n",
            "Train Score: 0.0050 MSE (0.0706 RMSE)\n",
            "Train Score: 0.0362 MAE\n",
            "Train Score: 0.6422 R²\n",
            "3/3 [==============================] - 0s 6ms/step\n",
            "Test Score: 0.0062 MSE (0.0788 RMSE)\n",
            "Test Score: 0.0495 MAE\n",
            "Test Score: 0.0300 R²\n"
          ]
        }
      ],
      "source": [
        "# Training set predictions and evaluations\n",
        "MLP_Claims_trainPredicted = MLP_Claims_model.predict(trainX_Claims)\n",
        "MLP_Claims_trainMSE = mean_squared_error(trainY_Claims, MLP_Claims_trainPredicted)\n",
        "MLP_Claims_trainMAE = mean_absolute_error(trainY_Claims, MLP_Claims_trainPredicted)\n",
        "MLP_Claims_trainR2 = r2_score(trainY_Claims, MLP_Claims_trainPredicted)\n",
        "\n",
        "print('Train Score: %.4f MSE (%.4f RMSE)' % (MLP_Claims_trainMSE, math.sqrt(MLP_Claims_trainMSE)))\n",
        "print('Train Score: %.4f MAE' % (MLP_Claims_trainMAE))\n",
        "print('Train Score: %.4f R²' % (MLP_Claims_trainR2))\n",
        "\n",
        "# Test set predictions and evaluations\n",
        "MLP_Claims_testPredicted = MLP_Claims_model.predict(testX_Claims)\n",
        "MLP_Claims_testMSE = mean_squared_error(testY_Claims, MLP_Claims_testPredicted)\n",
        "MLP_Claims_testMAE = mean_absolute_error(testY_Claims, MLP_Claims_testPredicted)\n",
        "MLP_Claims_testR2 = r2_score(testY_Claims, MLP_Claims_testPredicted)\n",
        "\n",
        "print('Test Score: %.4f MSE (%.4f RMSE)' % (MLP_Claims_testMSE, math.sqrt(MLP_Claims_testMSE)))\n",
        "print('Test Score: %.4f MAE' % (MLP_Claims_testMAE))\n",
        "print('Test Score: %.4f R²' % (MLP_Claims_testR2))"
      ]
    }
  ],
  "metadata": {
    "colab": {
      "provenance": [],
      "mount_file_id": "1KiYU7zYob4q6CX73N-aT_h3tCp2aCFK_",
      "authorship_tag": "ABX9TyPEFdzZzxmIWfoxt4YnICc7",
      "include_colab_link": true
    },
    "kernelspec": {
      "display_name": "Python 3",
      "name": "python3"
    },
    "language_info": {
      "name": "python"
    }
  },
  "nbformat": 4,
  "nbformat_minor": 0
}
